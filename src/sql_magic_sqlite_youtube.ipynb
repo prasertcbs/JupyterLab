{
 "cells": [
  {
   "cell_type": "markdown",
   "metadata": {
    "Collapsed": "false"
   },
   "source": [
    "# SQLite: use sql magic %sql\n",
    "* pip install ipython-sql\n",
    "* doc: https://pypi.org/project/ipython-sql/"
   ]
  },
  {
   "cell_type": "markdown",
   "metadata": {
    "Collapsed": "false"
   },
   "source": [
    "---\n",
    "* author:  [Prasert Kanawattanachai](prasert.k@chula.ac.th)\n",
    "* YouTube: https://www.youtube.com/prasertcbs\n",
    "* [Chulalongkorn Business School](https://www.cbs.chula.ac.th/en/)\n",
    "---"
   ]
  },
  {
   "cell_type": "code",
   "execution_count": 1,
   "metadata": {
    "Collapsed": "false"
   },
   "outputs": [],
   "source": [
    "import pandas as pd"
   ]
  },
  {
   "cell_type": "code",
   "execution_count": 2,
   "metadata": {
    "Collapsed": "false"
   },
   "outputs": [
    {
     "name": "stdout",
     "output_type": "stream",
     "text": [
      "pandas version: 1.0.3\n"
     ]
    }
   ],
   "source": [
    "print(f'pandas version: {pd.__version__}')"
   ]
  },
  {
   "cell_type": "code",
   "execution_count": 3,
   "metadata": {
    "Collapsed": "false"
   },
   "outputs": [],
   "source": [
    "%load_ext sql"
   ]
  },
  {
   "cell_type": "markdown",
   "metadata": {
    "Collapsed": "false"
   },
   "source": [
    "### SQLite connection string\n",
    "* sqlalchemy connection string format\n",
    "* doc: https://docs.sqlalchemy.org/en/13/core/engines.html"
   ]
  },
  {
   "cell_type": "code",
   "execution_count": 4,
   "metadata": {
    "Collapsed": "false"
   },
   "outputs": [],
   "source": [
    "dbname='disney.sqlite'\n",
    "connection_string=f'sqlite:///{dbname}'"
   ]
  },
  {
   "cell_type": "code",
   "execution_count": 5,
   "metadata": {
    "Collapsed": "false"
   },
   "outputs": [
    {
     "data": {
      "text/plain": [
       "'sqlite:///disney.sqlite'"
      ]
     },
     "execution_count": 5,
     "metadata": {},
     "output_type": "execute_result"
    }
   ],
   "source": [
    "connection_string"
   ]
  },
  {
   "cell_type": "code",
   "execution_count": 6,
   "metadata": {
    "Collapsed": "false"
   },
   "outputs": [],
   "source": [
    "%sql sqlite:///disney.sqlite"
   ]
  },
  {
   "cell_type": "code",
   "execution_count": 7,
   "metadata": {
    "Collapsed": "false"
   },
   "outputs": [
    {
     "name": "stdout",
     "output_type": "stream",
     "text": [
      " * sqlite:///disney.sqlite\n",
      "Done.\n"
     ]
    },
    {
     "data": {
      "text/html": [
       "<table>\n",
       "    <tr>\n",
       "        <th>type</th>\n",
       "        <th>name</th>\n",
       "        <th>tbl_name</th>\n",
       "        <th>rootpage</th>\n",
       "        <th>sql</th>\n",
       "    </tr>\n",
       "    <tr>\n",
       "        <td>table</td>\n",
       "        <td>disney_char</td>\n",
       "        <td>disney_char</td>\n",
       "        <td>2</td>\n",
       "        <td>CREATE TABLE disney_char (<br>\tmovie_title TEXT, <br>\trelease_date DATETIME, <br>\thero TEXT, <br>\tvillian TEXT, <br>\tsong TEXT<br>)</td>\n",
       "    </tr>\n",
       "    <tr>\n",
       "        <td>table</td>\n",
       "        <td>voice_actor</td>\n",
       "        <td>voice_actor</td>\n",
       "        <td>5</td>\n",
       "        <td>CREATE TABLE voice_actor (<br>\tcharacter TEXT, <br>\tvoice_actor TEXT, <br>\tmovie_title TEXT<br>)</td>\n",
       "    </tr>\n",
       "    <tr>\n",
       "        <td>table</td>\n",
       "        <td>director</td>\n",
       "        <td>director</td>\n",
       "        <td>18</td>\n",
       "        <td>CREATE TABLE director (<br>\tmovie_title TEXT, <br>\tdirector TEXT<br>)</td>\n",
       "    </tr>\n",
       "    <tr>\n",
       "        <td>table</td>\n",
       "        <td>movie_gross</td>\n",
       "        <td>movie_gross</td>\n",
       "        <td>19</td>\n",
       "        <td>CREATE TABLE movie_gross (<br>\tmovie_title TEXT, <br>\trelease_date DATETIME, <br>\tgenre TEXT, <br>\tmpaa_rating TEXT, <br>\ttotal_gross BIGINT, <br>\tinflation_adjusted_gross BIGINT<br>)</td>\n",
       "    </tr>\n",
       "    <tr>\n",
       "        <td>table</td>\n",
       "        <td>revenue</td>\n",
       "        <td>revenue</td>\n",
       "        <td>31</td>\n",
       "        <td>CREATE TABLE revenue (<br>\tyear BIGINT, <br>\tstudio_entertainment FLOAT, <br>\tdisney_consumer_products FLOAT, <br>\tdisney_interactive FLOAT, <br>\twalt_disney_parks_and_resorts FLOAT, <br>\tdisney_media_networks FLOAT, <br>\ttotal BIGINT<br>)</td>\n",
       "    </tr>\n",
       "</table>"
      ],
      "text/plain": [
       "[('table', 'disney_char', 'disney_char', 2, 'CREATE TABLE disney_char (\\n\\tmovie_title TEXT, \\n\\trelease_date DATETIME, \\n\\thero TEXT, \\n\\tvillian TEXT, \\n\\tsong TEXT\\n)'),\n",
       " ('table', 'voice_actor', 'voice_actor', 5, 'CREATE TABLE voice_actor (\\n\\tcharacter TEXT, \\n\\tvoice_actor TEXT, \\n\\tmovie_title TEXT\\n)'),\n",
       " ('table', 'director', 'director', 18, 'CREATE TABLE director (\\n\\tmovie_title TEXT, \\n\\tdirector TEXT\\n)'),\n",
       " ('table', 'movie_gross', 'movie_gross', 19, 'CREATE TABLE movie_gross (\\n\\tmovie_title TEXT, \\n\\trelease_date DATETIME, \\n\\tgenre TEXT, \\n\\tmpaa_rating TEXT, \\n\\ttotal_gross BIGINT, \\n\\tinflation_adjusted_gross BIGINT\\n)'),\n",
       " ('table', 'revenue', 'revenue', 31, 'CREATE TABLE revenue (\\n\\tyear BIGINT, \\n\\tstudio_entertainment FLOAT, \\n\\tdisney_consumer_products FLOAT, \\n\\tdisney_interactive FLOAT, \\n\\twalt_disney_parks_and_resorts FLOAT, \\n\\tdisney_media_networks FLOAT, \\n\\ttotal BIGINT\\n)')]"
      ]
     },
     "execution_count": 7,
     "metadata": {},
     "output_type": "execute_result"
    }
   ],
   "source": [
    "%%sql\n",
    "select *\n",
    "    from  sqlite_master \n",
    "    where type ='table';"
   ]
  },
  {
   "cell_type": "code",
   "execution_count": 10,
   "metadata": {
    "Collapsed": "false"
   },
   "outputs": [
    {
     "name": "stdout",
     "output_type": "stream",
     "text": [
      " * sqlite:///disney.sqlite\n",
      "Done.\n"
     ]
    },
    {
     "data": {
      "text/html": [
       "<table>\n",
       "    <tr>\n",
       "        <th>movie_title</th>\n",
       "        <th>release_date</th>\n",
       "        <th>genre</th>\n",
       "        <th>mpaa_rating</th>\n",
       "        <th>total_gross</th>\n",
       "        <th>inflation_adjusted_gross</th>\n",
       "    </tr>\n",
       "    <tr>\n",
       "        <td>Snow White and the Seven Dwarfs</td>\n",
       "        <td>1937-12-21 00:00:00.000000</td>\n",
       "        <td>Musical</td>\n",
       "        <td>G</td>\n",
       "        <td>184925485</td>\n",
       "        <td>5228953251</td>\n",
       "    </tr>\n",
       "    <tr>\n",
       "        <td>Pinocchio</td>\n",
       "        <td>1940-02-09 00:00:00.000000</td>\n",
       "        <td>Adventure</td>\n",
       "        <td>G</td>\n",
       "        <td>84300000</td>\n",
       "        <td>2188229052</td>\n",
       "    </tr>\n",
       "    <tr>\n",
       "        <td>Fantasia</td>\n",
       "        <td>1940-11-13 00:00:00.000000</td>\n",
       "        <td>Musical</td>\n",
       "        <td>G</td>\n",
       "        <td>83320000</td>\n",
       "        <td>2187090808</td>\n",
       "    </tr>\n",
       "    <tr>\n",
       "        <td>Song of the South</td>\n",
       "        <td>1946-11-12 00:00:00.000000</td>\n",
       "        <td>Adventure</td>\n",
       "        <td>G</td>\n",
       "        <td>65000000</td>\n",
       "        <td>1078510579</td>\n",
       "    </tr>\n",
       "    <tr>\n",
       "        <td>Cinderella</td>\n",
       "        <td>1950-02-15 00:00:00.000000</td>\n",
       "        <td>Drama</td>\n",
       "        <td>G</td>\n",
       "        <td>85000000</td>\n",
       "        <td>920608730</td>\n",
       "    </tr>\n",
       "</table>"
      ],
      "text/plain": [
       "[('Snow White and the Seven Dwarfs', '1937-12-21 00:00:00.000000', 'Musical', 'G', 184925485, 5228953251),\n",
       " ('Pinocchio', '1940-02-09 00:00:00.000000', 'Adventure', 'G', 84300000, 2188229052),\n",
       " ('Fantasia', '1940-11-13 00:00:00.000000', 'Musical', 'G', 83320000, 2187090808),\n",
       " ('Song of the South', '1946-11-12 00:00:00.000000', 'Adventure', 'G', 65000000, 1078510579),\n",
       " ('Cinderella', '1950-02-15 00:00:00.000000', 'Drama', 'G', 85000000, 920608730)]"
      ]
     },
     "execution_count": 10,
     "metadata": {},
     "output_type": "execute_result"
    }
   ],
   "source": [
    "%sql select * from movie_gross limit 5;"
   ]
  },
  {
   "cell_type": "code",
   "execution_count": 9,
   "metadata": {
    "Collapsed": "false"
   },
   "outputs": [],
   "source": [
    "%sql $connection_string"
   ]
  },
  {
   "cell_type": "code",
   "execution_count": 12,
   "metadata": {
    "Collapsed": "false"
   },
   "outputs": [
    {
     "name": "stdout",
     "output_type": "stream",
     "text": [
      " * sqlite:///disney.sqlite\n",
      "Done.\n"
     ]
    },
    {
     "data": {
      "text/html": [
       "<table>\n",
       "    <tr>\n",
       "        <th>movie_title</th>\n",
       "        <th>release_date</th>\n",
       "        <th>genre</th>\n",
       "        <th>mpaa_rating</th>\n",
       "        <th>total_gross</th>\n",
       "        <th>inflation_adjusted_gross</th>\n",
       "    </tr>\n",
       "    <tr>\n",
       "        <td>Snow White and the Seven Dwarfs</td>\n",
       "        <td>1937-12-21 00:00:00.000000</td>\n",
       "        <td>Musical</td>\n",
       "        <td>G</td>\n",
       "        <td>184925485</td>\n",
       "        <td>5228953251</td>\n",
       "    </tr>\n",
       "    <tr>\n",
       "        <td>Pinocchio</td>\n",
       "        <td>1940-02-09 00:00:00.000000</td>\n",
       "        <td>Adventure</td>\n",
       "        <td>G</td>\n",
       "        <td>84300000</td>\n",
       "        <td>2188229052</td>\n",
       "    </tr>\n",
       "    <tr>\n",
       "        <td>Fantasia</td>\n",
       "        <td>1940-11-13 00:00:00.000000</td>\n",
       "        <td>Musical</td>\n",
       "        <td>G</td>\n",
       "        <td>83320000</td>\n",
       "        <td>2187090808</td>\n",
       "    </tr>\n",
       "    <tr>\n",
       "        <td>Song of the South</td>\n",
       "        <td>1946-11-12 00:00:00.000000</td>\n",
       "        <td>Adventure</td>\n",
       "        <td>G</td>\n",
       "        <td>65000000</td>\n",
       "        <td>1078510579</td>\n",
       "    </tr>\n",
       "    <tr>\n",
       "        <td>Cinderella</td>\n",
       "        <td>1950-02-15 00:00:00.000000</td>\n",
       "        <td>Drama</td>\n",
       "        <td>G</td>\n",
       "        <td>85000000</td>\n",
       "        <td>920608730</td>\n",
       "    </tr>\n",
       "    <tr>\n",
       "        <td>20,000 Leagues Under the Sea</td>\n",
       "        <td>1954-12-23 00:00:00.000000</td>\n",
       "        <td>Adventure</td>\n",
       "        <td>None</td>\n",
       "        <td>28200000</td>\n",
       "        <td>528279994</td>\n",
       "    </tr>\n",
       "    <tr>\n",
       "        <td>Lady and the Tramp</td>\n",
       "        <td>1955-06-22 00:00:00.000000</td>\n",
       "        <td>Drama</td>\n",
       "        <td>G</td>\n",
       "        <td>93600000</td>\n",
       "        <td>1236035515</td>\n",
       "    </tr>\n",
       "    <tr>\n",
       "        <td>Sleeping Beauty</td>\n",
       "        <td>1959-01-29 00:00:00.000000</td>\n",
       "        <td>Drama</td>\n",
       "        <td>None</td>\n",
       "        <td>9464608</td>\n",
       "        <td>21505832</td>\n",
       "    </tr>\n",
       "    <tr>\n",
       "        <td>101 Dalmatians</td>\n",
       "        <td>1961-01-25 00:00:00.000000</td>\n",
       "        <td>Comedy</td>\n",
       "        <td>G</td>\n",
       "        <td>153000000</td>\n",
       "        <td>1362870985</td>\n",
       "    </tr>\n",
       "    <tr>\n",
       "        <td>The Absent Minded Professor</td>\n",
       "        <td>1961-03-16 00:00:00.000000</td>\n",
       "        <td>Comedy</td>\n",
       "        <td>None</td>\n",
       "        <td>25381407</td>\n",
       "        <td>310094574</td>\n",
       "    </tr>\n",
       "</table>"
      ],
      "text/plain": [
       "[('Snow White and the Seven Dwarfs', '1937-12-21 00:00:00.000000', 'Musical', 'G', 184925485, 5228953251),\n",
       " ('Pinocchio', '1940-02-09 00:00:00.000000', 'Adventure', 'G', 84300000, 2188229052),\n",
       " ('Fantasia', '1940-11-13 00:00:00.000000', 'Musical', 'G', 83320000, 2187090808),\n",
       " ('Song of the South', '1946-11-12 00:00:00.000000', 'Adventure', 'G', 65000000, 1078510579),\n",
       " ('Cinderella', '1950-02-15 00:00:00.000000', 'Drama', 'G', 85000000, 920608730),\n",
       " ('20,000 Leagues Under the Sea', '1954-12-23 00:00:00.000000', 'Adventure', None, 28200000, 528279994),\n",
       " ('Lady and the Tramp', '1955-06-22 00:00:00.000000', 'Drama', 'G', 93600000, 1236035515),\n",
       " ('Sleeping Beauty', '1959-01-29 00:00:00.000000', 'Drama', None, 9464608, 21505832),\n",
       " ('101 Dalmatians', '1961-01-25 00:00:00.000000', 'Comedy', 'G', 153000000, 1362870985),\n",
       " ('The Absent Minded Professor', '1961-03-16 00:00:00.000000', 'Comedy', None, 25381407, 310094574)]"
      ]
     },
     "execution_count": 12,
     "metadata": {},
     "output_type": "execute_result"
    }
   ],
   "source": [
    "%sql select * from movie_gross limit 10;"
   ]
  },
  {
   "cell_type": "code",
   "execution_count": null,
   "metadata": {
    "Collapsed": "false"
   },
   "outputs": [],
   "source": [
    "%%sql\n",
    "update movie_gross\n",
    "    set release_date = strftime('%Y-%m-%d')"
   ]
  },
  {
   "cell_type": "code",
   "execution_count": null,
   "metadata": {
    "Collapsed": "false"
   },
   "outputs": [],
   "source": [
    "%%sql\n",
    "select * from movie_gross \n",
    "    where total_gross > 100e6 and strftime('%Y', release_date) > '2010';"
   ]
  },
  {
   "cell_type": "code",
   "execution_count": null,
   "metadata": {
    "Collapsed": "false"
   },
   "outputs": [],
   "source": [
    "rs=%sql select mpaa_rating, count(*) no_movies from movie_gross group by mpaa_rating;"
   ]
  },
  {
   "cell_type": "code",
   "execution_count": null,
   "metadata": {
    "Collapsed": "false"
   },
   "outputs": [],
   "source": [
    "type(rs)"
   ]
  },
  {
   "cell_type": "code",
   "execution_count": null,
   "metadata": {
    "Collapsed": "false"
   },
   "outputs": [],
   "source": [
    "df=rs.DataFrame()\n",
    "df"
   ]
  },
  {
   "cell_type": "code",
   "execution_count": null,
   "metadata": {
    "Collapsed": "false"
   },
   "outputs": [],
   "source": [
    "type(df)"
   ]
  },
  {
   "cell_type": "code",
   "execution_count": null,
   "metadata": {
    "Collapsed": "false"
   },
   "outputs": [],
   "source": [
    "import seaborn as sns"
   ]
  },
  {
   "cell_type": "code",
   "execution_count": null,
   "metadata": {
    "Collapsed": "false"
   },
   "outputs": [],
   "source": [
    "sns.barplot(x='mpaa_rating', y='no_movies', data=df)"
   ]
  },
  {
   "cell_type": "code",
   "execution_count": null,
   "metadata": {
    "Collapsed": "false"
   },
   "outputs": [],
   "source": [
    "%%sql\n",
    "update movie_gross\n",
    "    set movie_title = upper(movie_title);"
   ]
  },
  {
   "cell_type": "code",
   "execution_count": null,
   "metadata": {
    "Collapsed": "false"
   },
   "outputs": [],
   "source": [
    "%%sql\n",
    "select * from movie_gross limit 5;"
   ]
  },
  {
   "cell_type": "markdown",
   "metadata": {
    "Collapsed": "false"
   },
   "source": [
    "## SqlMagic"
   ]
  },
  {
   "cell_type": "code",
   "execution_count": null,
   "metadata": {
    "Collapsed": "false"
   },
   "outputs": [],
   "source": [
    "%config SqlMagic"
   ]
  },
  {
   "cell_type": "code",
   "execution_count": null,
   "metadata": {
    "Collapsed": "false"
   },
   "outputs": [],
   "source": [
    "%config SqlMagic.autopandas = True\n",
    "%config SqlMagic.displaycon = False"
   ]
  },
  {
   "cell_type": "code",
   "execution_count": null,
   "metadata": {
    "Collapsed": "false"
   },
   "outputs": [],
   "source": [
    "df=%sql select * from movie_gross;\n",
    "df"
   ]
  },
  {
   "cell_type": "code",
   "execution_count": null,
   "metadata": {
    "Collapsed": "false"
   },
   "outputs": [],
   "source": [
    "df['mpaa_rating'].hist()"
   ]
  },
  {
   "cell_type": "code",
   "execution_count": null,
   "metadata": {
    "Collapsed": "false"
   },
   "outputs": [],
   "source": [
    "type(df)"
   ]
  },
  {
   "cell_type": "markdown",
   "metadata": {
    "Collapsed": "false"
   },
   "source": [
    "## multiline %%sql to pandas.DataFrame()"
   ]
  },
  {
   "cell_type": "code",
   "execution_count": null,
   "metadata": {
    "Collapsed": "false"
   },
   "outputs": [],
   "source": [
    "%%sql df2 <<\n",
    "select * \n",
    "    from movie_gross \n",
    "    where genre = 'Adventure'\n",
    "    limit 5;"
   ]
  },
  {
   "cell_type": "code",
   "execution_count": null,
   "metadata": {
    "Collapsed": "false"
   },
   "outputs": [],
   "source": [
    "df2"
   ]
  },
  {
   "cell_type": "code",
   "execution_count": null,
   "metadata": {
    "Collapsed": "false"
   },
   "outputs": [],
   "source": [
    "type(df2)"
   ]
  },
  {
   "cell_type": "code",
   "execution_count": null,
   "metadata": {
    "Collapsed": "false"
   },
   "outputs": [],
   "source": [
    "df2.info()"
   ]
  },
  {
   "cell_type": "code",
   "execution_count": null,
   "metadata": {
    "Collapsed": "false"
   },
   "outputs": [],
   "source": [
    "df2['release_date']=df2['release_date'].astype('datetime64')"
   ]
  },
  {
   "cell_type": "code",
   "execution_count": null,
   "metadata": {
    "Collapsed": "false"
   },
   "outputs": [],
   "source": [
    "df2.info()"
   ]
  },
  {
   "cell_type": "code",
   "execution_count": null,
   "metadata": {
    "Collapsed": "false"
   },
   "outputs": [],
   "source": [
    "df2[df2['release_date'].dt.year < 1960]"
   ]
  },
  {
   "cell_type": "markdown",
   "metadata": {
    "Collapsed": "false"
   },
   "source": [
    "## switch to other database @dbname"
   ]
  },
  {
   "cell_type": "code",
   "execution_count": null,
   "metadata": {
    "Collapsed": "false"
   },
   "outputs": [],
   "source": [
    "%config SqlMagic.displaycon = True"
   ]
  },
  {
   "cell_type": "code",
   "execution_count": null,
   "metadata": {
    "Collapsed": "false"
   },
   "outputs": [],
   "source": [
    "dbname='th_province.sqlite'\n",
    "connection_string=f'sqlite:///{dbname}'"
   ]
  },
  {
   "cell_type": "code",
   "execution_count": null,
   "metadata": {
    "Collapsed": "false"
   },
   "outputs": [],
   "source": [
    "%sql $connection_string"
   ]
  },
  {
   "cell_type": "code",
   "execution_count": null,
   "metadata": {
    "Collapsed": "false"
   },
   "outputs": [],
   "source": [
    "%%sql\n",
    "select * \n",
    "    from  sqlite_master \n",
    "    where type ='table';"
   ]
  },
  {
   "cell_type": "code",
   "execution_count": null,
   "metadata": {
    "Collapsed": "false"
   },
   "outputs": [],
   "source": [
    "%sql select * from provinces;"
   ]
  },
  {
   "cell_type": "code",
   "execution_count": null,
   "metadata": {
    "Collapsed": "false"
   },
   "outputs": [],
   "source": [
    "df=%sql select regionid, sum(areaKm2) area from provinces group by regionid;\n",
    "df"
   ]
  },
  {
   "cell_type": "code",
   "execution_count": null,
   "metadata": {
    "Collapsed": "false"
   },
   "outputs": [],
   "source": [
    "sns.barplot(data=df, x='regionID', y='area')"
   ]
  },
  {
   "cell_type": "code",
   "execution_count": null,
   "metadata": {
    "Collapsed": "false"
   },
   "outputs": [],
   "source": [
    "%sql @disney"
   ]
  },
  {
   "cell_type": "code",
   "execution_count": null,
   "metadata": {
    "Collapsed": "false"
   },
   "outputs": [],
   "source": [
    "%sql select * from disney_char limit 5;"
   ]
  },
  {
   "cell_type": "code",
   "execution_count": null,
   "metadata": {
    "Collapsed": "false"
   },
   "outputs": [],
   "source": [
    "%sql @th_province"
   ]
  },
  {
   "cell_type": "code",
   "execution_count": null,
   "metadata": {
    "Collapsed": "false"
   },
   "outputs": [],
   "source": [
    "%%sql\n",
    "select * \n",
    "    from  sqlite_master \n",
    "    where type ='table';"
   ]
  },
  {
   "cell_type": "code",
   "execution_count": null,
   "metadata": {
    "Collapsed": "false"
   },
   "outputs": [],
   "source": [
    "%%sql\n",
    "select * from provinces where regionid='S'"
   ]
  },
  {
   "cell_type": "markdown",
   "metadata": {
    "Collapsed": "false"
   },
   "source": [
    "---"
   ]
  }
 ],
 "metadata": {
  "kernelspec": {
   "display_name": "Python 3",
   "language": "python",
   "name": "python3"
  },
  "language_info": {
   "codemirror_mode": {
    "name": "ipython",
    "version": 3
   },
   "file_extension": ".py",
   "mimetype": "text/x-python",
   "name": "python",
   "nbconvert_exporter": "python",
   "pygments_lexer": "ipython3",
   "version": "3.7.7"
  },
  "widgets": {
   "application/vnd.jupyter.widget-state+json": {
    "state": {},
    "version_major": 2,
    "version_minor": 0
   }
  }
 },
 "nbformat": 4,
 "nbformat_minor": 4
}
